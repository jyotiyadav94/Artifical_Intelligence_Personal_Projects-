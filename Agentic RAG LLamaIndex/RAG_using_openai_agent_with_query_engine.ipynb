{
  "cells": [
    {
      "cell_type": "markdown",
      "id": "b50c4af8-fec3-4396-860a-1322089d76cb",
      "metadata": {
        "id": "b50c4af8-fec3-4396-860a-1322089d76cb"
      },
      "source": [
        "# OpenAI Agent with Query Engine Tools"
      ]
    },
    {
      "cell_type": "markdown",
      "id": "db402a8b-90d6-4e1d-8df6-347c54624f26",
      "metadata": {
        "id": "db402a8b-90d6-4e1d-8df6-347c54624f26"
      },
      "source": [
        "## Build Query Engine Tools"
      ]
    },
    {
      "cell_type": "code",
      "execution_count": null,
      "id": "a0ed4104",
      "metadata": {
        "id": "a0ed4104"
      },
      "outputs": [],
      "source": [
        "%pip install llama-index-agent-openai\n",
        "!pip install llama-index"
      ]
    },
    {
      "cell_type": "code",
      "execution_count": null,
      "id": "ac039427",
      "metadata": {
        "id": "ac039427"
      },
      "outputs": [],
      "source": [
        "!pip install llama-index"
      ]
    },
    {
      "cell_type": "code",
      "execution_count": 34,
      "id": "02160804-64a2-4ef3-8a0d-8c16b06fd205",
      "metadata": {
        "id": "02160804-64a2-4ef3-8a0d-8c16b06fd205"
      },
      "outputs": [],
      "source": [
        "from llama_index.core import (\n",
        "    SimpleDirectoryReader,\n",
        "    VectorStoreIndex,\n",
        "    StorageContext,\n",
        "    load_index_from_storage,\n",
        ")\n",
        "\n",
        "from llama_index.core.tools import QueryEngineTool, ToolMetadata"
      ]
    },
    {
      "cell_type": "code",
      "execution_count": 35,
      "id": "91618236-54d3-4783-86b7-7b7554efeed1",
      "metadata": {
        "id": "91618236-54d3-4783-86b7-7b7554efeed1"
      },
      "outputs": [],
      "source": [
        "try:\n",
        "    storage_context = StorageContext.from_defaults(\n",
        "        persist_dir=\"./storage/lyft\"\n",
        "    )\n",
        "    lyft_index = load_index_from_storage(storage_context)\n",
        "\n",
        "    storage_context = StorageContext.from_defaults(\n",
        "        persist_dir=\"./storage/uber\"\n",
        "    )\n",
        "    uber_index = load_index_from_storage(storage_context)\n",
        "\n",
        "    index_loaded = True\n",
        "except:\n",
        "    index_loaded = False"
      ]
    },
    {
      "cell_type": "markdown",
      "id": "0a875e00",
      "metadata": {
        "id": "0a875e00"
      },
      "source": [
        "Download Data"
      ]
    },
    {
      "cell_type": "code",
      "execution_count": 36,
      "id": "d2ae5855",
      "metadata": {
        "id": "d2ae5855",
        "colab": {
          "base_uri": "https://localhost:8080/"
        },
        "outputId": "ebf59c34-722e-4707-e6c1-481e5016b8c1"
      },
      "outputs": [
        {
          "output_type": "stream",
          "name": "stdout",
          "text": [
            "--2024-06-13 10:37:31--  https://raw.githubusercontent.com/run-llama/llama_index/main/docs/examples/data/10k/uber_2021.pdf\n",
            "Resolving raw.githubusercontent.com (raw.githubusercontent.com)... 185.199.108.133, 185.199.109.133, 185.199.110.133, ...\n",
            "Connecting to raw.githubusercontent.com (raw.githubusercontent.com)|185.199.108.133|:443... connected.\n",
            "HTTP request sent, awaiting response... 404 Not Found\n",
            "2024-06-13 10:37:31 ERROR 404: Not Found.\n",
            "\n",
            "--2024-06-13 10:37:31--  https://raw.githubusercontent.com/run-llama/llama_index/main/docs/examples/data/10k/lyft_2021.pdf\n",
            "Resolving raw.githubusercontent.com (raw.githubusercontent.com)... 185.199.110.133, 185.199.111.133, 185.199.108.133, ...\n",
            "Connecting to raw.githubusercontent.com (raw.githubusercontent.com)|185.199.110.133|:443... connected.\n",
            "HTTP request sent, awaiting response... 404 Not Found\n",
            "2024-06-13 10:37:31 ERROR 404: Not Found.\n",
            "\n"
          ]
        }
      ],
      "source": [
        "!mkdir -p 'data/10k/'\n",
        "!wget 'https://raw.githubusercontent.com/run-llama/llama_index/main/docs/examples/data/10k/uber_2021.pdf' -O 'data/10k/uber_2021.pdf'\n",
        "!wget 'https://raw.githubusercontent.com/run-llama/llama_index/main/docs/examples/data/10k/lyft_2021.pdf' -O 'data/10k/lyft_2021.pdf'"
      ]
    },
    {
      "cell_type": "code",
      "source": [
        "from google.colab import userdata\n",
        "OPENAPI_KEY=userdata.get('OPENAPI_KEY')\n",
        "import openai\n",
        "openai.api_key = OPENAPI_KEY"
      ],
      "metadata": {
        "id": "qNihjGq6Gs51"
      },
      "id": "qNihjGq6Gs51",
      "execution_count": 37,
      "outputs": []
    },
    {
      "cell_type": "code",
      "execution_count": 38,
      "id": "d3d0bb8c-16c8-4946-a9d8-59528cf3952a",
      "metadata": {
        "id": "d3d0bb8c-16c8-4946-a9d8-59528cf3952a"
      },
      "outputs": [],
      "source": [
        "if not index_loaded:\n",
        "    # load data\n",
        "    lyft_docs = SimpleDirectoryReader(\n",
        "        input_files=[\"./data/10k/lyft_2021.pdf\"]\n",
        "    ).load_data()\n",
        "    uber_docs = SimpleDirectoryReader(\n",
        "        input_files=[\"./data/10k/uber_2021.pdf\"]\n",
        "    ).load_data()\n",
        "\n",
        "    # build index\n",
        "    lyft_index = VectorStoreIndex.from_documents(lyft_docs)\n",
        "    uber_index = VectorStoreIndex.from_documents(uber_docs)\n",
        "\n",
        "    # persist index\n",
        "    lyft_index.storage_context.persist(persist_dir=\"./storage/lyft\")\n",
        "    uber_index.storage_context.persist(persist_dir=\"./storage/uber\")"
      ]
    },
    {
      "cell_type": "code",
      "execution_count": 39,
      "id": "31892898-a2dc-43c8-812a-3442feb2108d",
      "metadata": {
        "id": "31892898-a2dc-43c8-812a-3442feb2108d"
      },
      "outputs": [],
      "source": [
        "lyft_engine = lyft_index.as_query_engine(similarity_top_k=3)\n",
        "uber_engine = uber_index.as_query_engine(similarity_top_k=3)"
      ]
    },
    {
      "cell_type": "code",
      "execution_count": 40,
      "id": "f9f3158a-7647-4442-8de1-4db80723b4d2",
      "metadata": {
        "id": "f9f3158a-7647-4442-8de1-4db80723b4d2"
      },
      "outputs": [],
      "source": [
        "query_engine_tools = [\n",
        "    QueryEngineTool(\n",
        "        query_engine=lyft_engine,\n",
        "        metadata=ToolMetadata(\n",
        "            name=\"lyft_10k\",\n",
        "            description=(\n",
        "                \"Provides information about Lyft financials for year 2021. \"\n",
        "                \"Use a detailed plain text question as input to the tool.\"\n",
        "            ),\n",
        "        ),\n",
        "    ),\n",
        "    QueryEngineTool(\n",
        "        query_engine=uber_engine,\n",
        "        metadata=ToolMetadata(\n",
        "            name=\"uber_10k\",\n",
        "            description=(\n",
        "                \"Provides information about Uber financials for year 2021. \"\n",
        "                \"Use a detailed plain text question as input to the tool.\"\n",
        "            ),\n",
        "        ),\n",
        "    ),\n",
        "]"
      ]
    },
    {
      "cell_type": "markdown",
      "id": "275c01b1-8dce-4216-9203-1e961b7fc313",
      "metadata": {
        "id": "275c01b1-8dce-4216-9203-1e961b7fc313"
      },
      "source": [
        "## Setup OpenAI Agent"
      ]
    },
    {
      "cell_type": "code",
      "execution_count": 41,
      "id": "32f71a46-bdf6-4365-b1f1-e23a0d913a3d",
      "metadata": {
        "id": "32f71a46-bdf6-4365-b1f1-e23a0d913a3d"
      },
      "outputs": [],
      "source": [
        "from llama_index.agent.openai import OpenAIAgent"
      ]
    },
    {
      "cell_type": "code",
      "execution_count": 42,
      "id": "ded93297-fee8-4329-bf37-cf77e87621ae",
      "metadata": {
        "id": "ded93297-fee8-4329-bf37-cf77e87621ae"
      },
      "outputs": [],
      "source": [
        "agent = OpenAIAgent.from_tools(query_engine_tools, verbose=True)"
      ]
    },
    {
      "cell_type": "markdown",
      "id": "22716961-11c3-4ac4-82a8-419f787bc36a",
      "metadata": {
        "id": "22716961-11c3-4ac4-82a8-419f787bc36a"
      },
      "source": [
        "## Let's Try It Out!"
      ]
    },
    {
      "cell_type": "code",
      "execution_count": 45,
      "id": "42a1bce0-b398-4937-9008-6cee04368ac4",
      "metadata": {
        "id": "42a1bce0-b398-4937-9008-6cee04368ac4",
        "colab": {
          "base_uri": "https://localhost:8080/"
        },
        "outputId": "54b8bfd4-a625-4d4c-d38b-78c3244132f7"
      },
      "outputs": [
        {
          "output_type": "stream",
          "name": "stdout",
          "text": [
            "Added user message to memory: What was Lyft's revenue growth in 2021?\n",
            "=== Calling Function ===\n",
            "Calling function: lyft_10k with args: {\"input\":\"What was Lyft's revenue growth in 2021?\"}\n",
            "Got output: Empty Response\n",
            "========================\n",
            "\n"
          ]
        }
      ],
      "source": [
        "# Define your query\n",
        "query = \"What was Lyft's revenue growth in 2021?\"\n",
        "# Run the query and get the response\n",
        "response = agent.chat(query)"
      ]
    }
  ],
  "metadata": {
    "kernelspec": {
      "display_name": "Python 3 (ipykernel)",
      "language": "python",
      "name": "python3"
    },
    "language_info": {
      "codemirror_mode": {
        "name": "ipython",
        "version": 3
      },
      "file_extension": ".py",
      "mimetype": "text/x-python",
      "name": "python",
      "nbconvert_exporter": "python",
      "pygments_lexer": "ipython3"
    },
    "colab": {
      "provenance": []
    }
  },
  "nbformat": 4,
  "nbformat_minor": 5
}