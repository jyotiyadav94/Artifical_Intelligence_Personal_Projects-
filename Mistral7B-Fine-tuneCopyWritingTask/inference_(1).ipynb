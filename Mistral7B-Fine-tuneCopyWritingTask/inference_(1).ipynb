{
  "metadata": {
    "kernelspec": {
      "language": "python",
      "display_name": "Python 3",
      "name": "python3"
    },
    "language_info": {
      "name": "python",
      "version": "3.10.13",
      "mimetype": "text/x-python",
      "codemirror_mode": {
        "name": "ipython",
        "version": 3
      },
      "pygments_lexer": "ipython3",
      "nbconvert_exporter": "python",
      "file_extension": ".py"
    },
    "kaggle": {
      "accelerator": "nvidiaTeslaT4",
      "dataSources": [],
      "dockerImageVersionId": 30683,
      "isInternetEnabled": true,
      "language": "python",
      "sourceType": "notebook",
      "isGpuEnabled": true
    },
    "colab": {
      "provenance": []
    }
  },
  "nbformat_minor": 0,
  "nbformat": 4,
  "cells": [
    {
      "cell_type": "code",
      "source": [
        "#%%capture\n",
        "!pip install bitsandbytes\n",
        "!pip install transformers==4.34.0\n",
        "!pip install -U peft\n",
        "!pip install accelerate\n",
        "!pip install -U trl\n",
        "!pip install datasets==2.16.0\n",
        "!pip install wandb"
      ],
      "metadata": {
        "execution": {
          "iopub.status.busy": "2024-04-16T10:22:28.641953Z",
          "iopub.execute_input": "2024-04-16T10:22:28.642220Z",
          "iopub.status.idle": "2024-04-16T10:24:18.903039Z",
          "shell.execute_reply.started": "2024-04-16T10:22:28.642196Z",
          "shell.execute_reply": "2024-04-16T10:24:18.901346Z"
        },
        "trusted": true,
        "id": "pyKkiyemvuH5"
      },
      "execution_count": null,
      "outputs": []
    },
    {
      "cell_type": "code",
      "source": [
        "from transformers import AutoModelForCausalLM, AutoTokenizer, BitsAndBytesConfig,HfArgumentParser,TrainingArguments,pipeline, logging\n",
        "from peft import LoraConfig, PeftModel, prepare_model_for_kbit_training, get_peft_model\n",
        "import os,torch\n",
        "from datasets import load_dataset\n",
        "from trl import SFTTrainer"
      ],
      "metadata": {
        "execution": {
          "iopub.status.busy": "2024-04-16T10:24:18.905406Z",
          "iopub.execute_input": "2024-04-16T10:24:18.905777Z",
          "iopub.status.idle": "2024-04-16T10:24:38.720292Z",
          "shell.execute_reply.started": "2024-04-16T10:24:18.905738Z",
          "shell.execute_reply": "2024-04-16T10:24:38.719297Z"
        },
        "trusted": true,
        "id": "lO3XrptfvuH7",
        "outputId": "8a1543f6-c261-4229-acb8-fb4fbdb8dd27"
      },
      "execution_count": null,
      "outputs": [
        {
          "name": "stderr",
          "text": "2024-04-16 10:24:26.883197: E external/local_xla/xla/stream_executor/cuda/cuda_dnn.cc:9261] Unable to register cuDNN factory: Attempting to register factory for plugin cuDNN when one has already been registered\n2024-04-16 10:24:26.883338: E external/local_xla/xla/stream_executor/cuda/cuda_fft.cc:607] Unable to register cuFFT factory: Attempting to register factory for plugin cuFFT when one has already been registered\n2024-04-16 10:24:27.012161: E external/local_xla/xla/stream_executor/cuda/cuda_blas.cc:1515] Unable to register cuBLAS factory: Attempting to register factory for plugin cuBLAS when one has already been registered\n",
          "output_type": "stream"
        }
      ]
    },
    {
      "cell_type": "code",
      "source": [
        "from transformers import AutoModelForCausalLM, AutoTokenizer,pipeline\n",
        "from peft import PeftModel\n",
        "import torch"
      ],
      "metadata": {
        "execution": {
          "iopub.status.busy": "2024-04-16T10:24:38.721505Z",
          "iopub.execute_input": "2024-04-16T10:24:38.722065Z",
          "iopub.status.idle": "2024-04-16T10:24:38.726198Z",
          "shell.execute_reply.started": "2024-04-16T10:24:38.722038Z",
          "shell.execute_reply": "2024-04-16T10:24:38.725350Z"
        },
        "trusted": true,
        "id": "MoqFSO2-vuH7"
      },
      "execution_count": null,
      "outputs": []
    },
    {
      "cell_type": "code",
      "source": [
        "pipe = pipeline(\n",
        "    \"text-generation\",\n",
        "    model=\"Jyotiyadav/copywriting\",\n",
        "    #tokenizer = tokenizer,\n",
        "    torch_dtype=torch.bfloat16,\n",
        "    device_map=\"auto\"\n",
        ")"
      ],
      "metadata": {
        "execution": {
          "iopub.status.busy": "2024-04-16T10:24:38.728569Z",
          "iopub.execute_input": "2024-04-16T10:24:38.728939Z",
          "iopub.status.idle": "2024-04-16T10:26:57.667958Z",
          "shell.execute_reply.started": "2024-04-16T10:24:38.728900Z",
          "shell.execute_reply": "2024-04-16T10:26:57.667165Z"
        },
        "trusted": true,
        "colab": {
          "referenced_widgets": [
            "3471a86bf550465cb69d19c5d827ace7",
            "12f393eb70be4c009a890d5ff611b066",
            "1d4f385a37444cc28c4851c016695528",
            "a6b9fb6792d74b4aa91f568eb8724117",
            "c66ad445e20e441dbb7c9e889879d89e",
            "e352572f1eeb4fc3bae71bbb46cbf01a",
            "924ceec4f8404e06952651787af2f00c",
            "a666791672184ec1a1d18a4d925e2624",
            "9840e52851964ab58bdce32d056cc3d5",
            "127716312dc04f0991382259c51b3943",
            "6a9610defd2a432aa8d099a0b784a479",
            "dfda3a9d133e4bd8bb93e0c4dcc5ed2f"
          ]
        },
        "id": "BO5kCeIdvuH8",
        "outputId": "e91fa1c4-d565-480c-bdc5-c3cd4f679967"
      },
      "execution_count": null,
      "outputs": [
        {
          "output_type": "display_data",
          "data": {
            "text/plain": "adapter_config.json:   0%|          | 0.00/695 [00:00<?, ?B/s]",
            "application/vnd.jupyter.widget-view+json": {
              "version_major": 2,
              "version_minor": 0,
              "model_id": "3471a86bf550465cb69d19c5d827ace7"
            }
          },
          "metadata": {}
        },
        {
          "output_type": "display_data",
          "data": {
            "text/plain": "config.json:   0%|          | 0.00/571 [00:00<?, ?B/s]",
            "application/vnd.jupyter.widget-view+json": {
              "version_major": 2,
              "version_minor": 0,
              "model_id": "12f393eb70be4c009a890d5ff611b066"
            }
          },
          "metadata": {}
        },
        {
          "output_type": "display_data",
          "data": {
            "text/plain": "model.safetensors.index.json:   0%|          | 0.00/25.1k [00:00<?, ?B/s]",
            "application/vnd.jupyter.widget-view+json": {
              "version_major": 2,
              "version_minor": 0,
              "model_id": "1d4f385a37444cc28c4851c016695528"
            }
          },
          "metadata": {}
        },
        {
          "output_type": "display_data",
          "data": {
            "text/plain": "Downloading shards:   0%|          | 0/2 [00:00<?, ?it/s]",
            "application/vnd.jupyter.widget-view+json": {
              "version_major": 2,
              "version_minor": 0,
              "model_id": "a6b9fb6792d74b4aa91f568eb8724117"
            }
          },
          "metadata": {}
        },
        {
          "output_type": "display_data",
          "data": {
            "text/plain": "model-00001-of-00002.safetensors:   0%|          | 0.00/9.94G [00:00<?, ?B/s]",
            "application/vnd.jupyter.widget-view+json": {
              "version_major": 2,
              "version_minor": 0,
              "model_id": "c66ad445e20e441dbb7c9e889879d89e"
            }
          },
          "metadata": {}
        },
        {
          "output_type": "display_data",
          "data": {
            "text/plain": "model-00002-of-00002.safetensors:   0%|          | 0.00/4.54G [00:00<?, ?B/s]",
            "application/vnd.jupyter.widget-view+json": {
              "version_major": 2,
              "version_minor": 0,
              "model_id": "e352572f1eeb4fc3bae71bbb46cbf01a"
            }
          },
          "metadata": {}
        },
        {
          "output_type": "display_data",
          "data": {
            "text/plain": "Loading checkpoint shards:   0%|          | 0/2 [00:00<?, ?it/s]",
            "application/vnd.jupyter.widget-view+json": {
              "version_major": 2,
              "version_minor": 0,
              "model_id": "924ceec4f8404e06952651787af2f00c"
            }
          },
          "metadata": {}
        },
        {
          "output_type": "display_data",
          "data": {
            "text/plain": "generation_config.json:   0%|          | 0.00/116 [00:00<?, ?B/s]",
            "application/vnd.jupyter.widget-view+json": {
              "version_major": 2,
              "version_minor": 0,
              "model_id": "a666791672184ec1a1d18a4d925e2624"
            }
          },
          "metadata": {}
        },
        {
          "output_type": "display_data",
          "data": {
            "text/plain": "tokenizer_config.json:   0%|          | 0.00/967 [00:00<?, ?B/s]",
            "application/vnd.jupyter.widget-view+json": {
              "version_major": 2,
              "version_minor": 0,
              "model_id": "9840e52851964ab58bdce32d056cc3d5"
            }
          },
          "metadata": {}
        },
        {
          "output_type": "display_data",
          "data": {
            "text/plain": "tokenizer.model:   0%|          | 0.00/493k [00:00<?, ?B/s]",
            "application/vnd.jupyter.widget-view+json": {
              "version_major": 2,
              "version_minor": 0,
              "model_id": "127716312dc04f0991382259c51b3943"
            }
          },
          "metadata": {}
        },
        {
          "output_type": "display_data",
          "data": {
            "text/plain": "tokenizer.json:   0%|          | 0.00/1.80M [00:00<?, ?B/s]",
            "application/vnd.jupyter.widget-view+json": {
              "version_major": 2,
              "version_minor": 0,
              "model_id": "6a9610defd2a432aa8d099a0b784a479"
            }
          },
          "metadata": {}
        },
        {
          "output_type": "display_data",
          "data": {
            "text/plain": "special_tokens_map.json:   0%|          | 0.00/72.0 [00:00<?, ?B/s]",
            "application/vnd.jupyter.widget-view+json": {
              "version_major": 2,
              "version_minor": 0,
              "model_id": "dfda3a9d133e4bd8bb93e0c4dcc5ed2f"
            }
          },
          "metadata": {}
        },
        {
          "name": "stderr",
          "text": "Special tokens have been added in the vocabulary, make sure the associated word embeddings are fine-tuned or trained.\n",
          "output_type": "stream"
        }
      ]
    },
    {
      "cell_type": "markdown",
      "source": [
        "### Result1 for MenuDataset"
      ],
      "metadata": {
        "id": "Sttw2ZikvuH8"
      }
    },
    {
      "cell_type": "code",
      "source": [
        "prompt = f'''As a restaurant menu manager, your role is to gather below informations based on input data(Name of the dish).\n",
        "generate the output\n",
        "\n",
        "### information to be extracted :\n",
        "<Ingredients>: Only Ingredients included in the dish.\n",
        "<Description>: Briefly describe the dish.\n",
        "<Allergens>: Only Choose relevant options from this list - [Cereals, Crustaceans, Egg, Fish, Peanuts, SOYBEAN, Latte, Nuts, Celery, Mustard, Sesame seeds, Sulfur dioxide and sulphites, Shell, Clams].\n",
        "<Additional Information>: Only Choose relevant options from this list - [Spicy, Vegan, Gluten free, Vegetarian].\n",
        "\n",
        "### Output Format\n",
        "\"\"\"\n",
        "  \"ingredients\": All Ingredients in a List,\n",
        "  \"description\": Description in a string,\n",
        "  \"allergen\": All allergen in a List,\n",
        "  \"Additional_information\": All Additional_information in a List\n",
        "\"\"\"\n",
        "\n",
        "### Input data:\n",
        "pizza margherita\n",
        "\n",
        "### Output:\n",
        "'''\n",
        "\n",
        "result = pipe(\n",
        "    f\"<s>[INST] {prompt} [/INST]</s>\",\n",
        "    do_sample=True,\n",
        "    max_new_tokens=1000,\n",
        "    temperature=0.1,\n",
        "    top_k=50,\n",
        "    top_p=0.95,\n",
        "    num_return_sequences=1,\n",
        ")\n",
        "print(result[0]['generated_text'])"
      ],
      "metadata": {
        "execution": {
          "iopub.status.busy": "2024-04-16T10:43:51.455034Z",
          "iopub.execute_input": "2024-04-16T10:43:51.455641Z",
          "iopub.status.idle": "2024-04-16T10:43:58.993090Z",
          "shell.execute_reply.started": "2024-04-16T10:43:51.455610Z",
          "shell.execute_reply": "2024-04-16T10:43:58.992151Z"
        },
        "trusted": true,
        "id": "SBs7yXq9vuH9",
        "outputId": "353d1fc3-3606-47b3-fb60-e5f751bfa2fb"
      },
      "execution_count": null,
      "outputs": [
        {
          "name": "stderr",
          "text": "Setting `pad_token_id` to `eos_token_id`:2 for open-end generation.\nA decoder-only architecture is being used, but right-padding was detected! For correct generation results, please set `padding_side='left'` when initializing the tokenizer.\n",
          "output_type": "stream"
        },
        {
          "name": "stdout",
          "text": "<s>[INST] As a restaurant menu manager, your role is to gather below informations based on input  (Name of the dish).\ngenerate the output \n\n### information to be extracted :\n<Ingredients>: Only Ingredients included in the dish.\n<Description>: Briefly describe the dish.\n<Allergens>: Only Choose relevant options from this list - [Cereals, Crustaceans, Egg, Fish, Peanuts, SOYBEAN, Latte, Nuts, Celery, Mustard, Sesame seeds, Sulfur dioxide and sulphites, Shell, Clams].\n<Additional Information>: Only Choose relevant options from this list - [Spicy, Vegan, Gluten free, Vegetarian].\n\n### Output Format \n\"\"\"\n  \"ingredients\": All Ingredients in a List,\n  \"description\": Description in a string,\n  \"allergen\": All allergen in a List,\n  \"Additional_information\": All Additional_information in a List\n\"\"\"\n\n### Input data:\npizza margherita \n\n### Output:\n [/INST]</s>\n\n\"\"\"\n  \"ingredients\": [\"tomato sauce\", \"mozzarella\", \"basil\"],\n  \"description\": \"A classic Italian pizza with tomato sauce, mozzarella cheese, and fresh basil.\",\n  \"allergen\": [\"Cereals\", \"Milk\", \"Soybeans\"],\n  \"Additional_information\": [\"Vegan\", \"Gluten free\"]\n\"\"\"\n",
          "output_type": "stream"
        }
      ]
    },
    {
      "cell_type": "code",
      "source": [
        "prompt = f'''As a restaurant menu manager, your role is to gather below informations based on input Data(Name of the dish).\n",
        "generate the output\n",
        "\n",
        "### information to be extracted :\n",
        "<Ingredients>: Only Ingredients included in the dish.\n",
        "<Description>: Briefly describe the dish.\n",
        "<Allergens>: Only Choose relevant options from this list - [Cereals, Crustaceans, Egg, Fish, Peanuts, SOYBEAN, Latte, Nuts, Celery, Mustard, Sesame seeds, Sulfur dioxide and sulphites, Shell, Clams].\n",
        "<Additional Information>: Only Choose relevant options from this list - [Spicy, Vegan, Gluten free, Vegetarian].\n",
        "\n",
        "### Output Format\n",
        "\"\"\"\n",
        "  \"ingredients\": All Ingredients in a List,\n",
        "  \"description\": Description in a string,\n",
        "  \"allergen\": All allergen in a List,\n",
        "  \"Additional_information\": All Additional_information in a List\n",
        "\"\"\"\n",
        "\n",
        "### Input data:\n",
        "Pizza Napoletana\n",
        "\n",
        "### Output:\n",
        "'''\n",
        "\n",
        "result = pipe(\n",
        "    f\"<s>[INST] {prompt} [/INST]\",\n",
        "    do_sample=True,\n",
        "    max_new_tokens=1000,\n",
        "    temperature=0.1,\n",
        "    top_k=50,\n",
        "    top_p=0.95,\n",
        "    num_return_sequences=1,\n",
        ")\n",
        "print(result[0]['generated_text'])"
      ],
      "metadata": {
        "execution": {
          "iopub.status.busy": "2024-04-16T10:49:16.864542Z",
          "iopub.execute_input": "2024-04-16T10:49:16.864888Z",
          "iopub.status.idle": "2024-04-16T10:49:34.406730Z",
          "shell.execute_reply.started": "2024-04-16T10:49:16.864861Z",
          "shell.execute_reply": "2024-04-16T10:49:34.405843Z"
        },
        "trusted": true,
        "id": "_q9k54m2vuH9",
        "outputId": "255fd5a3-e668-4cf4-bb6e-64f3ddb7efa2"
      },
      "execution_count": null,
      "outputs": [
        {
          "name": "stderr",
          "text": "Setting `pad_token_id` to `eos_token_id`:2 for open-end generation.\n",
          "output_type": "stream"
        },
        {
          "name": "stdout",
          "text": "<s>[INST] As a restaurant menu manager, your role is to gather below informations based on input Data(Name of the dish).\ngenerate the output \n\n### information to be extracted :\n<Ingredients>: Only Ingredients included in the dish.\n<Description>: Briefly describe the dish.\n<Allergens>: Only Choose relevant options from this list - [Cereals, Crustaceans, Egg, Fish, Peanuts, SOYBEAN, Latte, Nuts, Celery, Mustard, Sesame seeds, Sulfur dioxide and sulphites, Shell, Clams].\n<Additional Information>: Only Choose relevant options from this list - [Spicy, Vegan, Gluten free, Vegetarian].\n\n### Output Format \n\"\"\"\n  \"ingredients\": All Ingredients in a List,\n  \"description\": Description in a string,\n  \"allergen\": All allergen in a List,\n  \"Additional_information\": All Additional_information in a List\n\"\"\"\n\n### Input data:\nPizza Napoletana \n\n### Output:\n [/INST]\n\n### Sample Input:\nPizza Napoletana\n\n### Sample Output:\n[\n  {\n    \"ingredients\": [\n      \"Tomato\",\n      \"Mozzarella\",\n      \"Basil\"\n    ],\n    \"description\": \"Pizza Napoletana is a traditional Italian pizza made with tomato, mozzarella, and basil.\",\n    \"allergen\": [\n      \"Cereals\",\n      \"Crustaceans\",\n      \"Egg\",\n      \"Fish\",\n      \"Peanuts\",\n      \"SOYBEAN\",\n      \"Latte\",\n      \"Nuts\",\n      \"Celery\",\n      \"Mustard\",\n      \"Sesame seeds\",\n      \"Sulfur dioxide and sulphites\",\n      \"Shell\",\n      \"Clams\"\n    ],\n    \"Additional_information\": [\n      \"Spicy\",\n      \"Vegan\",\n      \"Gluten free\",\n      \"Vegetarian\"\n    ]\n  }\n]\n",
          "output_type": "stream"
        }
      ]
    },
    {
      "cell_type": "markdown",
      "source": [
        "### Result2 for MenuDataset"
      ],
      "metadata": {
        "id": "KrjdCzMqvuH9"
      }
    },
    {
      "cell_type": "code",
      "source": [
        "prompt = f'''As a restaurant menu manager, your role is to gather below informations based on input  (Name of the dish).\n",
        "generate the output\n",
        "\n",
        "### information to be extracted :\n",
        "<Ingredients>: Only Ingredients included in the dish.\n",
        "<Description>: Briefly describe the dish.\n",
        "<Allergens>: Only Choose relevant options from this list - [Cereals, Crustaceans, Egg, Fish, Peanuts, SOYBEAN, Latte, Nuts, Celery, Mustard, Sesame seeds, Sulfur dioxide and sulphites, Shell, Clams].\n",
        "<Additional Information>: Only Choose relevant options from this list - [Spicy, Vegan, Gluten free, Vegetarian].\n",
        "\n",
        "### Output Format\n",
        "\"\"\"\n",
        "  \"ingredients\": All Ingredients in a List,\n",
        "  \"description\": Description in a string,\n",
        "  \"allergen\": All allergen in a List,\n",
        "  \"Additional_information\": All Additional_information in a List\n",
        "\"\"\"\n",
        "\n",
        "### Input data:\n",
        "Pasta carbonara\n",
        "\n",
        "### Output:\n",
        "'''\n",
        "\n",
        "result = pipe(\n",
        "    f\"<s>[INST] {prompt} [/INST]\",\n",
        "    do_sample=True,\n",
        "    max_new_tokens=1000,\n",
        "    temperature=0.1,\n",
        "    top_k=50,\n",
        "    top_p=0.95,\n",
        "    num_return_sequences=1,\n",
        ")\n",
        "print(result[0]['generated_text'])"
      ],
      "metadata": {
        "execution": {
          "iopub.status.busy": "2024-04-16T10:50:56.508330Z",
          "iopub.execute_input": "2024-04-16T10:50:56.508704Z",
          "iopub.status.idle": "2024-04-16T10:51:05.992754Z",
          "shell.execute_reply.started": "2024-04-16T10:50:56.508677Z",
          "shell.execute_reply": "2024-04-16T10:51:05.991778Z"
        },
        "trusted": true,
        "id": "5ihTyP51vuH9",
        "outputId": "a4b8ce34-07c4-4ac2-c5e8-1205ec2758fb"
      },
      "execution_count": null,
      "outputs": [
        {
          "name": "stderr",
          "text": "Setting `pad_token_id` to `eos_token_id`:2 for open-end generation.\n",
          "output_type": "stream"
        },
        {
          "name": "stdout",
          "text": "<s>[INST] As a restaurant menu manager, your role is to gather below informations based on input  (Name of the dish).\ngenerate the output \n\n### information to be extracted :\n<Ingredients>: Only Ingredients included in the dish.\n<Description>: Briefly describe the dish.\n<Allergens>: Only Choose relevant options from this list - [Cereals, Crustaceans, Egg, Fish, Peanuts, SOYBEAN, Latte, Nuts, Celery, Mustard, Sesame seeds, Sulfur dioxide and sulphites, Shell, Clams].\n<Additional Information>: Only Choose relevant options from this list - [Spicy, Vegan, Gluten free, Vegetarian].\n\n### Output Format \n\"\"\"\n  \"ingredients\": All Ingredients in a List,\n  \"description\": Description in a string,\n  \"allergen\": All allergen in a List,\n  \"Additional_information\": All Additional_information in a List\n\"\"\"\n\n### Input data:\nPasta carbonara  \n\n### Output:\n [/INST]\n\n### Input data:\nPasta carbonara\n\n### Output:\n[INST]\n{\n  \"ingredients\": [\n    \"Pasta\",\n    \"Bacon\",\n    \"Egg\",\n    \"Cheese\"\n  ],\n  \"description\": \"Pasta with bacon, egg and cheese\",\n  \"allergen\": [\n    \"Egg\",\n    \"Milk\"\n  ],\n  \"Additional_information\": [\n    \"Spicy\"\n  ]\n}\n[/INST]\n",
          "output_type": "stream"
        }
      ]
    },
    {
      "cell_type": "markdown",
      "source": [
        "### Result3 for MenuDataset"
      ],
      "metadata": {
        "id": "tmAAF36lvuH-"
      }
    },
    {
      "cell_type": "code",
      "source": [
        "\n",
        "prompt = f'''As a restaurant menu manager, your role is to gather below informations based on input  (Name of the dish).\n",
        "generate the output\n",
        "\n",
        "### information to be extracted :\n",
        "<Ingredients>: Only Ingredients included in the dish.\n",
        "<Description>: Briefly describe the dish.\n",
        "<Allergens>: Only Choose relevant options from this list - [Cereals, Crustaceans, Egg, Fish, Peanuts, SOYBEAN, Latte, Nuts, Celery, Mustard, Sesame seeds, Sulfur dioxide and sulphites, Shell, Clams].\n",
        "<Additional Information>: Only Choose relevant options from this list - [Spicy, Vegan, Gluten free, Vegetarian].\n",
        "\n",
        "### Output Format\n",
        "\"\"\"\n",
        "  \"ingredients\": All Ingredients in a List,\n",
        "  \"description\": Description in a string,\n",
        "  \"allergen\": All allergen in a List,\n",
        "  \"Additional_information\": All Additional_information in a List\n",
        "\"\"\"\n",
        "\n",
        "### Input data:\n",
        "Tiramisù\n",
        "\n",
        "### Output:\n",
        "'''\n",
        "\n",
        "result = pipe(\n",
        "    f\"<s>[INST] {prompt} [/INST]\",\n",
        "    do_sample=True,\n",
        "    max_new_tokens=1000,\n",
        "    temperature=0.1,\n",
        "    top_k=50,\n",
        "    top_p=0.95,\n",
        "    num_return_sequences=1,\n",
        ")\n",
        "print(result[0]['generated_text'])"
      ],
      "metadata": {
        "execution": {
          "iopub.status.busy": "2024-04-16T10:59:50.276383Z",
          "iopub.execute_input": "2024-04-16T10:59:50.276769Z",
          "iopub.status.idle": "2024-04-16T11:00:03.778629Z",
          "shell.execute_reply.started": "2024-04-16T10:59:50.276739Z",
          "shell.execute_reply": "2024-04-16T11:00:03.777637Z"
        },
        "trusted": true,
        "id": "iJp1EQ_jvuH-",
        "outputId": "9a3bf599-b609-4137-eb3e-46cd2b028c37"
      },
      "execution_count": null,
      "outputs": [
        {
          "name": "stderr",
          "text": "Setting `pad_token_id` to `eos_token_id`:2 for open-end generation.\n",
          "output_type": "stream"
        },
        {
          "name": "stdout",
          "text": "<s>[INST] As a restaurant menu manager, your role is to gather below informations based on input  (Name of the dish).\ngenerate the output \n\n### information to be extracted :\n<Ingredients>: Only Ingredients included in the dish.\n<Description>: Briefly describe the dish.\n<Allergens>: Only Choose relevant options from this list - [Cereals, Crustaceans, Egg, Fish, Peanuts, SOYBEAN, Latte, Nuts, Celery, Mustard, Sesame seeds, Sulfur dioxide and sulphites, Shell, Clams].\n<Additional Information>: Only Choose relevant options from this list - [Spicy, Vegan, Gluten free, Vegetarian].\n\n### Output Format \n\"\"\"\n  \"ingredients\": All Ingredients in a List,\n  \"description\": Description in a string,\n  \"allergen\": All allergen in a List,\n  \"Additional_information\": All Additional_information in a List\n\"\"\"\n\n### Input data:\nTiramisù \n\n### Output:\n [/INST]\n\n### Expected Output:\n\n```\n{\n  \"ingredients\": [\n    \"Mascarpone\",\n    \"Egg\",\n    \"Coffee\",\n    \"Ladyfingers\",\n    \"Cocoa powder\",\n    \"Sugar\",\n    \"Brandy\",\n    \"Coffee liqueur\"\n  ],\n  \"description\": \"Tiramisu is an Italian dessert made of ladyfingers dipped in coffee, layered with a whipped mixture of eggs, sugar, and mascarpone cheese, flavored with cocoa.\",\n  \"allergen\": [\n    \"Egg\",\n    \"Milk\"\n  ],\n  \"Additional_information\": [\n    \"Spicy\"\n  ]\n}\n```\n",
          "output_type": "stream"
        }
      ]
    },
    {
      "cell_type": "markdown",
      "source": [
        "### Result4 for MenuDataset"
      ],
      "metadata": {
        "id": "cbG1lXiXvuH-"
      }
    },
    {
      "cell_type": "code",
      "source": [
        "prompt = f'''As a restaurant menu manager, your role is to gather below informations based on input Data(Name of the dish).\n",
        "generate the output\n",
        "\n",
        "### information to be extracted :\n",
        "<Ingredients>: Only Ingredients included in the dish.\n",
        "<Description>: Briefly describe the dish.\n",
        "<Allergens>: Only Choose relevant options from this list - [Cereals, Crustaceans, Egg, Fish, Peanuts, SOYBEAN, Latte, Nuts, Celery, Mustard, Sesame seeds, Sulfur dioxide and sulphites, Shell, Clams].\n",
        "<Additional Information>: Only Choose relevant options from this list - [Spicy, Vegan, Gluten free, Vegetarian].\n",
        "\n",
        "### Output Format\n",
        "\"\"\"\n",
        "  \"ingredients\": All Ingredients in a List,\n",
        "  \"description\": Description in a string,\n",
        "  \"allergen\": All allergen in a List,\n",
        "  \"Additional_information\": All Additional_information in a List\n",
        "\"\"\"\n",
        "\n",
        "### Input data:\n",
        "Lasagne alla Bolognese\n",
        "\n",
        "### Output:\n",
        "'''\n",
        "\n",
        "result = pipe(\n",
        "    f\"<s>[INST] {prompt} [/INST]\",\n",
        "    do_sample=True,\n",
        "    max_new_tokens=1000,\n",
        "    temperature=0.1,\n",
        "    top_k=50,\n",
        "    top_p=0.95,\n",
        "    num_return_sequences=1,\n",
        ")\n",
        "print(result[0]['generated_text'])"
      ],
      "metadata": {
        "execution": {
          "iopub.status.busy": "2024-04-16T12:23:02.060492Z",
          "iopub.execute_input": "2024-04-16T12:23:02.060909Z",
          "iopub.status.idle": "2024-04-16T12:23:23.873032Z",
          "shell.execute_reply.started": "2024-04-16T12:23:02.060878Z",
          "shell.execute_reply": "2024-04-16T12:23:23.872113Z"
        },
        "trusted": true,
        "id": "DzEezqGrvuH-",
        "outputId": "a25666a3-91d2-4b8b-d7c0-bd730f6d2f9e"
      },
      "execution_count": null,
      "outputs": [
        {
          "name": "stderr",
          "text": "Setting `pad_token_id` to `eos_token_id`:2 for open-end generation.\n",
          "output_type": "stream"
        },
        {
          "name": "stdout",
          "text": "<s>[INST] As a restaurant menu manager, your role is to gather below informations based on input Data(Name of the dish).\ngenerate the output \n\n### information to be extracted :\n<Ingredients>: Only Ingredients included in the dish.\n<Description>: Briefly describe the dish.\n<Allergens>: Only Choose relevant options from this list - [Cereals, Crustaceans, Egg, Fish, Peanuts, SOYBEAN, Latte, Nuts, Celery, Mustard, Sesame seeds, Sulfur dioxide and sulphites, Shell, Clams].\n<Additional Information>: Only Choose relevant options from this list - [Spicy, Vegan, Gluten free, Vegetarian].\n\n### Output Format \n\"\"\"\n  \"ingredients\": All Ingredients in a List,\n  \"description\": Description in a string,\n  \"allergen\": All allergen in a List,\n  \"Additional_information\": All Additional_information in a List\n\"\"\"\n\n### Input data:\nLasagne alla Bolognese\n\n### Output:\n [/INST]\n\n### Expected Output:\n\n{\n  \"ingredients\": [\n    \"Pasta\",\n    \"Beef\",\n    \"Tomato\",\n    \"Cheese\",\n    \"Onion\",\n    \"Garlic\",\n    \"Olive oil\",\n    \"Salt\",\n    \"Pepper\",\n    \"Basil\",\n    \"Oregano\",\n    \"Bay leaf\",\n    \"Milk\",\n    \"Egg\",\n    \"Flour\",\n    \"Butter\"\n  ],\n  \"description\": \"Lasagne alla Bolognese is a traditional Italian dish made with layers of pasta, meat sauce, and cheese.\",\n  \"allergen\": [\n    \"Cereals\",\n    \"Crustaceans\",\n    \"Egg\",\n    \"Fish\",\n    \"Peanuts\",\n    \"SOYBEAN\",\n    \"Latte\",\n    \"Nuts\",\n    \"Celery\",\n    \"Mustard\",\n    \"Sesame seeds\",\n    \"Sulfur dioxide and sulphites\",\n    \"Shell\",\n    \"Clams\"\n  ],\n  \"Additional_information\": [\n    \"Spicy\",\n    \"Vegan\",\n    \"Gluten free\",\n    \"Vegetarian\"\n  ]\n}\n",
          "output_type": "stream"
        }
      ]
    },
    {
      "cell_type": "markdown",
      "source": [
        "### Result5 for MenuDataset"
      ],
      "metadata": {
        "id": "UI6Sp6hrvuH_"
      }
    },
    {
      "cell_type": "code",
      "source": [
        "prompt = f'''As a restaurant menu manager, your role is to gather below informations based on input Data(Name of the dish).\n",
        "generate the output\n",
        "\n",
        "### information to be extracted :\n",
        "<Ingredients>: Only Ingredients included in the dish.\n",
        "<Description>: Briefly describe the dish.\n",
        "<Allergens>: Only Choose relevant options from this list - [Cereals, Crustaceans, Egg, Fish, Peanuts, SOYBEAN, Latte, Nuts, Celery, Mustard, Sesame seeds, Sulfur dioxide and sulphites, Shell, Clams].\n",
        "<Additional Information>: Only Choose relevant options from this list - [Spicy, Vegan, Gluten free, Vegetarian].\n",
        "\n",
        "### Output Format\n",
        "\"\"\"\n",
        "  \"ingredients\": All Ingredients in a List,\n",
        "  \"description\": Description in a string,\n",
        "  \"allergen\": All allergen in a List,\n",
        "  \"Additional_information\": All Additional_information in a List\n",
        "\"\"\"\n",
        "\n",
        "### Input data:\n",
        "Cannoli\n",
        "\n",
        "### Output:\n",
        "'''\n",
        "\n",
        "result = pipe(\n",
        "    f\"<s>[INST] {prompt} [/INST]\",\n",
        "    do_sample=True,\n",
        "    max_new_tokens=1000,\n",
        "    temperature=0.1,\n",
        "    top_k=50,\n",
        "    top_p=0.95,\n",
        "    num_return_sequences=1,\n",
        ")\n",
        "print(result[0]['generated_text'])"
      ],
      "metadata": {
        "execution": {
          "iopub.status.busy": "2024-04-16T12:36:01.500918Z",
          "iopub.execute_input": "2024-04-16T12:36:01.501170Z",
          "iopub.status.idle": "2024-04-16T12:36:14.547202Z",
          "shell.execute_reply.started": "2024-04-16T12:36:01.501148Z",
          "shell.execute_reply": "2024-04-16T12:36:14.546308Z"
        },
        "trusted": true,
        "id": "RW4Pqi2rvuH_",
        "outputId": "bf17df3c-cfea-4b49-ea8e-c537bab948d7"
      },
      "execution_count": null,
      "outputs": [
        {
          "name": "stderr",
          "text": "Setting `pad_token_id` to `eos_token_id`:2 for open-end generation.\n",
          "output_type": "stream"
        },
        {
          "name": "stdout",
          "text": "<s>[INST] As a restaurant menu manager, your role is to gather below informations based on input Data(Name of the dish).\ngenerate the output \n\n### information to be extracted :\n<Ingredients>: Only Ingredients included in the dish.\n<Description>: Briefly describe the dish.\n<Allergens>: Only Choose relevant options from this list - [Cereals, Crustaceans, Egg, Fish, Peanuts, SOYBEAN, Latte, Nuts, Celery, Mustard, Sesame seeds, Sulfur dioxide and sulphites, Shell, Clams].\n<Additional Information>: Only Choose relevant options from this list - [Spicy, Vegan, Gluten free, Vegetarian].\n\n### Output Format \n\"\"\"\n  \"ingredients\": All Ingredients in a List,\n  \"description\": Description in a string,\n  \"allergen\": All allergen in a List,\n  \"Additional_information\": All Additional_information in a List\n\"\"\"\n\n### Input data:\nCannoli\n\n### Output:\n [/INST]\n\n### Expected Output:\n\n```\n{\n  \"ingredients\": [\n    \"Cannoli\",\n    \"Cream\",\n    \"Chocolate\",\n    \"Sugar\",\n    \"Eggs\",\n    \"Milk\",\n    \"Cornstarch\",\n    \"Vanilla\",\n    \"Cinnamon\",\n    \"Oil\",\n    \"Salt\"\n  ],\n  \"description\": \"Cannoli is a traditional Italian pastry made with a crispy shell filled with sweetened ricotta cheese and topped with chocolate chips.\",\n  \"allergen\": [\n    \"Milk\",\n    \"Eggs\"\n  ],\n  \"Additional_information\": [\n    \"Spicy\"\n  ]\n}\n```\n",
          "output_type": "stream"
        }
      ]
    }
  ]
}